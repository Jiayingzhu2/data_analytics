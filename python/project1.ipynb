{
  "nbformat": 4,
  "nbformat_minor": 0,
  "metadata": {
    "colab": {
      "name": "Project1.ipynb",
      "provenance": [],
      "authorship_tag": "ABX9TyPhrNcwwxcjEn/14Y7i6qng",
      "include_colab_link": true
    },
    "kernelspec": {
      "name": "python3",
      "display_name": "Python 3"
    }
  },
  "cells": [
    {
      "cell_type": "markdown",
      "metadata": {
        "id": "view-in-github",
        "colab_type": "text"
      },
      "source": [
        "<a href=\"https://colab.research.google.com/github/Jiayingzhu2/data_analytics/blob/main/python/project1.ipynb\" target=\"_parent\"><img src=\"https://colab.research.google.com/assets/colab-badge.svg\" alt=\"Open In Colab\"/></a>"
      ]
    },
    {
      "cell_type": "code",
      "metadata": {
        "colab": {
          "base_uri": "https://localhost:8080/"
        },
        "id": "xBipJolLpLCC",
        "outputId": "b29adb48-e6b2-49ad-e426-df3ef8c87185"
      },
      "source": [
        "#whether the number is even or odd\n",
        "prompt= \"Please enter a number or type 'quit'to stop!\\n\"\n",
        "number = \"\"\n",
        "\n",
        "active = True\n",
        "while active:\n",
        "  number = input(prompt)\n",
        "  if number == 'quit':\n",
        "    active = False\n",
        "  elif int(number) % 2 == 0:\n",
        "    print(\"This is an even number.\")\n",
        "  elif int(number) % 2 == 1:\n",
        "    print(\"This is an odd number.\")\n",
        "  else:\n",
        "    print(\"Invalid number\")"
      ],
      "execution_count": 48,
      "outputs": [
        {
          "output_type": "stream",
          "text": [
            "Please enter a number or type 'quit'to stop!\n",
            "3\n",
            "This is an odd number.\n",
            "Please enter a number or type 'quit'to stop!\n",
            "4\n",
            "This is an even number.\n",
            "Please enter a number or type 'quit'to stop!\n",
            "quit\n"
          ],
          "name": "stdout"
        }
      ]
    },
    {
      "cell_type": "code",
      "metadata": {
        "colab": {
          "base_uri": "https://localhost:8080/"
        },
        "id": "pYzGzUUvcimd",
        "outputId": "9ba1c4b5-eb9d-4a57-8dd5-50e449679648"
      },
      "source": [
        "#Bonus 1:multiple of 4\n",
        "prompt= \"Please enter a number or Type 'quit'to stop!\\n\"\n",
        "number = \"\"\n",
        "\n",
        "active = True\n",
        "while active:\n",
        "  number = input(prompt)\n",
        "  if number == 'quit':\n",
        "    active = False\n",
        "  elif int(number) % 4 == 0:\n",
        "      print(\"The number is a multiple of 4.\")\n",
        "  elif int(number) % 2 == 0:\n",
        "      print(\"This is an even number.\")\n",
        "  elif int(number) % 2 == 1:\n",
        "      print(\"This is an odd number.\")\n",
        "  else:\n",
        "      print(\"Invalid number\")"
      ],
      "execution_count": 51,
      "outputs": [
        {
          "output_type": "stream",
          "text": [
            "Please enter a number or Type 'quit'to stop!\n",
            "3\n",
            "This is an odd number.\n",
            "Please enter a number or Type 'quit'to stop!\n",
            "4\n",
            "The number is a multiple of 4.\n",
            "Please enter a number or Type 'quit'to stop!\n",
            "8\n",
            "The number is a multiple of 4.\n",
            "Please enter a number or Type 'quit'to stop!\n",
            "6\n",
            "This is an even number.\n",
            "Please enter a number or Type 'quit'to stop!\n",
            "7\n",
            "This is an odd number.\n",
            "Please enter a number or Type 'quit'to stop!\n",
            "quit\n"
          ],
          "name": "stdout"
        }
      ]
    },
    {
      "cell_type": "code",
      "metadata": {
        "colab": {
          "base_uri": "https://localhost:8080/"
        },
        "id": "bHBaLCm9cpvM",
        "outputId": "7b269751-38f6-4e8f-e5e6-0a47383f6843"
      },
      "source": [
        "#Bonus 2: check evenly\n",
        "num = int(input(\"Please enter your fisr number:\\n\"))\n",
        "check = int(input(\"Please enter your second number:\\n\"))\n",
        "\n",
        "if num % check == 0:\n",
        "    print(\"You divide evenly into number.\")\n",
        "elif num % check != 0:\n",
        "    print(\"You did not divide evenly!\")\n",
        "else:\n",
        "    print(\"Invalid number\")"
      ],
      "execution_count": 25,
      "outputs": [
        {
          "output_type": "stream",
          "text": [
            "Please enter your fisr number:\n",
            "8\n",
            "Please enter your second number:\n",
            "4\n",
            "You divide evenly into number.\n"
          ],
          "name": "stdout"
        }
      ]
    },
    {
      "cell_type": "code",
      "metadata": {
        "colab": {
          "base_uri": "https://localhost:8080/"
        },
        "id": "AhgCKtbOcrh7",
        "outputId": "6e921cb9-afdf-435d-e750-5fe89581f0b9"
      },
      "source": [
        "#Bonus 3: wirte a custom function\n",
        "num = int(input(\"Please enter a number:\\n\")) \n",
        "\n",
        "def odd_or_even():\n",
        "    if num % 2 == 0:\n",
        "        print(\"Your number is even.\")\n",
        "    elif num % 2 == 1:\n",
        "        print(\"Your number is odd.\")\n",
        "    else:\n",
        "        print(\"Invalid number!\")\n",
        "\n",
        "odd_or_even()"
      ],
      "execution_count": 26,
      "outputs": [
        {
          "output_type": "stream",
          "text": [
            "Please enter a number:\n",
            "10\n",
            "Your number is even.\n"
          ],
          "name": "stdout"
        }
      ]
    }
  ]
}